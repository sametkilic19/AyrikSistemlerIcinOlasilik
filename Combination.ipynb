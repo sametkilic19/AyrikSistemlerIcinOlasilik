{
 "cells": [
  {
   "cell_type": "code",
   "execution_count": 1,
   "metadata": {},
   "outputs": [],
   "source": [
    "def factorial(n):\n",
    "    if n == 0 or n == 1:\n",
    "        return 1\n",
    "    else:\n",
    "        result = 1\n",
    "        for i in range(2, n + 1):\n",
    "            result *= i\n",
    "        return result"
   ]
  },
  {
   "cell_type": "code",
   "execution_count": 2,
   "metadata": {},
   "outputs": [],
   "source": [
    "def combination(n, r):\n",
    "    if r > n:\n",
    "        return 0\n",
    "    return factorial(n) / (factorial(r) * factorial(n - r))"
   ]
  },
  {
   "cell_type": "code",
   "execution_count": 3,
   "metadata": {},
   "outputs": [
    {
     "name": "stdout",
     "output_type": "stream",
     "text": [
      "Seçim 45 farklı şekilde yapılır.\n"
     ]
    }
   ],
   "source": [
    "toplam_yazilimci = 6\n",
    "toplam_analist = 3\n",
    "toplam_yonetici = 3\n",
    "\n",
    "alinacak_yazilimci = 2\n",
    "alinacak_analist = 3\n",
    "alinacak_yönetici = 2\n",
    "\n",
    "yazilimci= combination(toplam_yazilimci,alinacak_yazilimci)\n",
    "analist = combination(toplam_analist, alinacak_analist)\n",
    "yönetici = combination(toplam_yonetici,alinacak_yönetici)\n",
    "\n",
    "sonuc = yazilimci * analist * yönetici\n",
    "\n",
    "print(f\"Seçim {int(sonuc)} farklı şekilde yapılır.\")"
   ]
  }
 ],
 "metadata": {
  "kernelspec": {
   "display_name": "Python 3",
   "language": "python",
   "name": "python3"
  },
  "language_info": {
   "codemirror_mode": {
    "name": "ipython",
    "version": 3
   },
   "file_extension": ".py",
   "mimetype": "text/x-python",
   "name": "python",
   "nbconvert_exporter": "python",
   "pygments_lexer": "ipython3",
   "version": "3.11.0"
  },
  "orig_nbformat": 4
 },
 "nbformat": 4,
 "nbformat_minor": 2
}
