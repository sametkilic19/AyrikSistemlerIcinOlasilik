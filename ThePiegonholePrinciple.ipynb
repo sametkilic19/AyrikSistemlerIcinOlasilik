{
 "cells": [
  {
   "cell_type": "code",
   "execution_count": 1,
   "metadata": {},
   "outputs": [
    {
     "name": "stdout",
     "output_type": "stream",
     "text": [
      "En az iki kişi aynı ayda dogdu: Ay 9\n",
      "Dogulan aylar: [9, 12, 8, 4, 1, 12, 12, 2, 8, 5, 1, 6, 9]\n"
     ]
    }
   ],
   "source": [
    "import random\n",
    "from collections import Counter\n",
    "\n",
    "def simulate_book_club():\n",
    "    gruptaki_kisi= 13\n",
    "    aylar = 12\n",
    "    chosen_ay = [random.randint(1, aylar) for _ in range(gruptaki_kisi)]\n",
    "    ay_counts = Counter(chosen_ay)\n",
    "\n",
    "    # En az iki kişinin aynı ayda doğduğunu kontrol etme\n",
    "    for ay, count in ay_counts.items():\n",
    "        if count > 1:\n",
    "            print(f\"En az iki kişi aynı ayda dogdu: Ay {ay}\")\n",
    "            print(f\"Dogulan aylar: {chosen_ay}\")\n",
    "            return\n",
    "\n",
    "    # Aynı ayda doğan kişi yoksa\n",
    "    print(\"Hiçbir iki kişi aynı ayda dogmadi.\")\n",
    "    print(f\"Dogulan aylar: {chosen_ay}\")\n",
    "\n",
    "simulate_book_club()"
   ]
  }
 ],
 "metadata": {
  "kernelspec": {
   "display_name": "Python 3",
   "language": "python",
   "name": "python3"
  },
  "language_info": {
   "codemirror_mode": {
    "name": "ipython",
    "version": 3
   },
   "file_extension": ".py",
   "mimetype": "text/x-python",
   "name": "python",
   "nbconvert_exporter": "python",
   "pygments_lexer": "ipython3",
   "version": "3.11.0"
  },
  "orig_nbformat": 4
 },
 "nbformat": 4,
 "nbformat_minor": 2
}
