{
 "cells": [
  {
   "cell_type": "code",
   "execution_count": 1,
   "metadata": {},
   "outputs": [],
   "source": [
    "def factorial(n):\n",
    "    if n == 0 or n == 1:\n",
    "        return 1\n",
    "    else:\n",
    "        result = 1\n",
    "        for i in range(2, n + 1):\n",
    "            result *= i\n",
    "        return result\n",
    "     "
   ]
  },
  {
   "cell_type": "code",
   "execution_count": 2,
   "metadata": {},
   "outputs": [],
   "source": [
    "def permutation(n, r):\n",
    "    if r > n or n < 0 or r < 0:\n",
    "        return None\n",
    "    else:\n",
    "        return factorial(n) / factorial(n - r)"
   ]
  },
  {
   "cell_type": "code",
   "execution_count": 3,
   "metadata": {},
   "outputs": [
    {
     "name": "stdout",
     "output_type": "stream",
     "text": [
      "5 erkek 4 kadın arasından 3 kişilik bir yönetim kurulu komitede en az bir kadın üye olacak şekilde 164 şekilde oluşturulabilir. \n"
     ]
    }
   ],
   "source": [
    "toplam_kadin = 4\n",
    "toplam_erkek = 5\n",
    "\n",
    "sonuc= permutation(toplam_kadin,1) * permutation(toplam_erkek,2) + permutation(toplam_kadin,2) * permutation(toplam_erkek,1) + permutation(toplam_kadin,3)\n",
    "print(f\"5 erkek 4 kadın arasından 3 kişilik bir yönetim kurulu komitede en az bir kadın üye olacak şekilde {int(sonuc)} şekilde oluşturulabilir. \")"
   ]
  }
 ],
 "metadata": {
  "kernelspec": {
   "display_name": "Python 3",
   "language": "python",
   "name": "python3"
  },
  "language_info": {
   "codemirror_mode": {
    "name": "ipython",
    "version": 3
   },
   "file_extension": ".py",
   "mimetype": "text/x-python",
   "name": "python",
   "nbconvert_exporter": "python",
   "pygments_lexer": "ipython3",
   "version": "3.11.0"
  },
  "orig_nbformat": 4
 },
 "nbformat": 4,
 "nbformat_minor": 2
}
